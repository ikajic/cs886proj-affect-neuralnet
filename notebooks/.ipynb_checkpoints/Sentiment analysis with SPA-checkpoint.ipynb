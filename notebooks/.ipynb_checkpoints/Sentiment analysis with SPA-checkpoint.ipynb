{
 "cells": [
  {
   "cell_type": "code",
   "execution_count": 85,
   "metadata": {
    "collapsed": true
   },
   "outputs": [],
   "source": [
    "# Evaluating sentiments with ACT"
   ]
  },
  {
   "cell_type": "code",
   "execution_count": 94,
   "metadata": {
    "collapsed": true
   },
   "outputs": [],
   "source": [
    "import pandas as pd\n",
    "import numpy as np\n",
    "import os"
   ]
  },
  {
   "cell_type": "markdown",
   "metadata": {
    "collapsed": true
   },
   "source": [
    "First, for an example sentence, we extract EPA values. A simple sentence is:\n",
    "\n",
    "A child hugs the mother."
   ]
  },
  {
   "cell_type": "code",
   "execution_count": 95,
   "metadata": {
    "collapsed": true
   },
   "outputs": [],
   "source": [
    "class dotdict(dict):\n",
    "    \"\"\"dot.notation access to dictionary attributes\"\"\"\n",
    "    __getattr__ = dict.get\n",
    "    __setattr__ = dict.__setitem__\n",
    "    __delattr__ = dict.__delitem__"
   ]
  },
  {
   "cell_type": "code",
   "execution_count": 96,
   "metadata": {
    "collapsed": false
   },
   "outputs": [],
   "source": [
    "with np.load('../database/matrices.npz') as data:\n",
    "    fmat = data['fmat']\n",
    "    mmat = data['mmat']\n",
    "M = mmat    "
   ]
  },
  {
   "cell_type": "code",
   "execution_count": 97,
   "metadata": {
    "collapsed": true
   },
   "outputs": [],
   "source": [
    "data_path = os.path.join(os.path.curdir, os.path.pardir, 'database')"
   ]
  },
  {
   "cell_type": "code",
   "execution_count": 98,
   "metadata": {
    "collapsed": false
   },
   "outputs": [],
   "source": [
    "vocab = pd.read_csv(os.path.join(data_path, 'epa.txt'), header=None)\n",
    "vocab.columns = ['word', 'e1', 'p1', 'a1', 'e2', 'p2', 'a2', 'tmp']\n",
    "labels = ['e1', 'p1', 'a1', 'e2', 'p2', 'a2']"
   ]
  },
  {
   "cell_type": "code",
   "execution_count": 99,
   "metadata": {
    "collapsed": false
   },
   "outputs": [],
   "source": [
    "vocab[labels] = vocab[labels].apply(lambda x: x/4.)\n",
    "vocab[labels]= vocab[labels].clip(-1, None)"
   ]
  },
  {
   "cell_type": "code",
   "execution_count": 100,
   "metadata": {
    "collapsed": false
   },
   "outputs": [],
   "source": [
    "emo_list = pd.read_csv(os.path.join(data_path, 'basic_emo.txt'), header=None)"
   ]
  },
  {
   "cell_type": "code",
   "execution_count": 101,
   "metadata": {
    "collapsed": false
   },
   "outputs": [],
   "source": [
    "emotions = vocab[vocab.word.isin(emo_list[0].values.tolist())]"
   ]
  },
  {
   "cell_type": "code",
   "execution_count": 102,
   "metadata": {
    "collapsed": false
   },
   "outputs": [],
   "source": [
    "words = list(vocab.word.values)"
   ]
  },
  {
   "cell_type": "code",
   "execution_count": 103,
   "metadata": {
    "collapsed": false
   },
   "outputs": [],
   "source": [
    "keys = {i:w for i, w in enumerate(words)}"
   ]
  },
  {
   "cell_type": "code",
   "execution_count": 104,
   "metadata": {
    "collapsed": false
   },
   "outputs": [],
   "source": [
    "epa_emotions = emotions[['e1', 'p1', 'a1']].values"
   ]
  },
  {
   "cell_type": "code",
   "execution_count": 105,
   "metadata": {
    "collapsed": false
   },
   "outputs": [
    {
     "data": {
      "text/plain": [
       "array([[-0.4675, -0.0375, -0.035 ],\n",
       "       [-0.3625, -0.1825, -0.0625],\n",
       "       [-0.535 , -0.4375, -0.0275],\n",
       "       [ 0.6175,  0.3125,  0.2425],\n",
       "       [-0.47  , -0.365 , -0.3125],\n",
       "       [ 0.295 ,  0.11  ,  0.2375]])"
      ]
     },
     "execution_count": 105,
     "metadata": {},
     "output_type": "execute_result"
    }
   ],
   "source": [
    "epa_emotions"
   ]
  },
  {
   "cell_type": "code",
   "execution_count": 106,
   "metadata": {
    "collapsed": true
   },
   "outputs": [],
   "source": [
    "def get_epa(w, vocab):\n",
    "    row = vocab[vocab.word==w].iloc[0]    \n",
    "    _epa = row[['e1', 'p1', 'a1']].values\n",
    "    return dotdict({'e': _epa[0], 'p': _epa[1], 'a': _epa[2]})"
   ]
  },
  {
   "cell_type": "code",
   "execution_count": 110,
   "metadata": {
    "collapsed": false
   },
   "outputs": [],
   "source": [
    "comp_distance = lambda x, y: np.linalg.norm(x-y, axis=1)\n",
    "\n",
    "def get_sentiments(subj='mother', verb='hug', obj='child', emo_display=5):\n",
    "    s = get_epa(subj, vocab)\n",
    "    o = get_epa(obj, vocab)\n",
    "    v = get_epa(verb, vocab)\n",
    "    \n",
    "    t = np.array([1, s.e, s.p, s.a, v.e, v.p, v.a, o.e, o.p, o.a, \n",
    "              s.e*v.e, s.e*v.p, s.e*v.a, s.p*v.e, s.p*v.p, s.p*o.a, s.a*v.a,\n",
    "              v.e*o.e, v.e*o.p, v.p*o.e, v.p*o.p, v.p*o.a, v.a*o.e, v.a*o.p,\n",
    "              s.e*v.e*o.e, s.e*v.p*o.p, s.p*v.p*o.p, s.p*v.p*o.a, s.a*v.a*o.a])\n",
    "\n",
    "    tau = np.dot(M/4., t)\n",
    "    \n",
    "    result_emotions = [[], []]\n",
    "    for i, (a, b) in enumerate([(0,3), (6,9)]):\n",
    "        distances = comp_distance(epa_emotions, tau[a:b])\n",
    "        \n",
    "        for j in np.argsort(distances):\n",
    "            result_emotions[i].append([emotions.iloc[j].word, distances[j]])\n",
    "\n",
    "    return tau, result_emotions"
   ]
  },
  {
   "cell_type": "code",
   "execution_count": 111,
   "metadata": {
    "collapsed": false
   },
   "outputs": [],
   "source": [
    "tau, result = get_sentiments('girlfriend', 'molest', 'boyfriend')"
   ]
  },
  {
   "cell_type": "code",
   "execution_count": 112,
   "metadata": {
    "collapsed": false
   },
   "outputs": [
    {
     "name": "stdout",
     "output_type": "stream",
     "text": [
      "[-0.04168841  0.04257797  0.14676558 -0.10063576  0.07954436  0.0747886\n",
      "  0.03061993 -0.10974096  0.03578582]\n"
     ]
    },
    {
     "data": {
      "text/plain": [
       "[[['surprised', 0.35515848939308775],\n",
       "  ['disgusted', 0.44426596642146909],\n",
       "  ['angry', 0.46985818554778985],\n",
       "  ['fearful', 0.71007018719081483],\n",
       "  ['happy', 0.71871576094595335],\n",
       "  ['sad', 0.74866246574496031]],\n",
       " [['surprised', 0.39858690843008598],\n",
       "  ['disgusted', 0.41170044459540839],\n",
       "  ['angry', 0.50828422026835229],\n",
       "  ['fearful', 0.65677772762263387],\n",
       "  ['sad', 0.66112063940172638],\n",
       "  ['happy', 0.75196170260560857]]]"
      ]
     },
     "execution_count": 112,
     "metadata": {},
     "output_type": "execute_result"
    }
   ],
   "source": [
    "print tau\n",
    "result"
   ]
  },
  {
   "cell_type": "code",
   "execution_count": null,
   "metadata": {
    "collapsed": true
   },
   "outputs": [],
   "source": [
    "def get_person_sentiment(person):\n",
    "    if person =="
   ]
  },
  {
   "cell_type": "code",
   "execution_count": 102,
   "metadata": {
    "collapsed": false,
    "scrolled": true
   },
   "outputs": [
    {
     "data": {
      "text/plain": [
       "array([[-1.87, -0.15, -0.14],\n",
       "       [-1.45, -0.73, -0.25],\n",
       "       [-2.14, -1.75, -0.11],\n",
       "       [ 2.47,  1.25,  0.97],\n",
       "       [-1.88, -1.46, -1.25],\n",
       "       [ 1.18,  0.44,  0.95]])"
      ]
     },
     "execution_count": 102,
     "metadata": {},
     "output_type": "execute_result"
    }
   ],
   "source": [
    "a,b =0,3\n",
    "distances = np.linalg.norm(epa_emotions-tau[a:b], axis=1)\n",
    "epa_emotions"
   ]
  },
  {
   "cell_type": "code",
   "execution_count": 103,
   "metadata": {
    "collapsed": false
   },
   "outputs": [
    {
     "name": "stdout",
     "output_type": "stream",
     "text": [
      "[-0.58433439 -0.47341221 -0.26900793  0.5949265  -0.58490151  0.79794589]\n",
      "[-0.58490151 -0.58433439 -0.47341221 -0.26900793  0.5949265   0.79794589]\n",
      "1961          sad\n",
      "1613        angry\n",
      "1709    disgusted\n",
      "1748      fearful\n",
      "1778        happy\n",
      "2026    surprised\n",
      "Name: word, dtype: object\n"
     ]
    }
   ],
   "source": [
    "vec = tau[6:]\n",
    "sim = np.dot(epa_emotions, vec) / (np.linalg.norm(epa_emotions, axis=1)*np.linalg.norm(vec))\n",
    "print sim\n",
    "print sim[np.argsort(sim)]\n",
    "print emotions.iloc[np.argsort(sim)].word"
   ]
  },
  {
   "cell_type": "code",
   "execution_count": 104,
   "metadata": {
    "collapsed": false
   },
   "outputs": [
    {
     "data": {
      "text/plain": [
       "array([[-1.87, -0.15, -0.14],\n",
       "       [-1.45, -0.73, -0.25],\n",
       "       [-2.14, -1.75, -0.11],\n",
       "       [ 2.47,  1.25,  0.97],\n",
       "       [-1.88, -1.46, -1.25],\n",
       "       [ 1.18,  0.44,  0.95]])"
      ]
     },
     "execution_count": 104,
     "metadata": {},
     "output_type": "execute_result"
    }
   ],
   "source": [
    "epa_emotions"
   ]
  },
  {
   "cell_type": "code",
   "execution_count": 120,
   "metadata": {
    "collapsed": false
   },
   "outputs": [
    {
     "data": {
      "text/plain": [
       "array([[-0.4675, -0.0375, -0.035 ],\n",
       "       [-0.3625, -0.1825, -0.0625],\n",
       "       [-0.535 , -0.4375, -0.0275],\n",
       "       [ 0.6175,  0.3125,  0.2425],\n",
       "       [-0.47  , -0.365 , -0.3125],\n",
       "       [ 0.295 ,  0.11  ,  0.2375]])"
      ]
     },
     "execution_count": 120,
     "metadata": {},
     "output_type": "execute_result"
    }
   ],
   "source": [
    "epa_emotions"
   ]
  },
  {
   "cell_type": "code",
   "execution_count": 121,
   "metadata": {
    "collapsed": false
   },
   "outputs": [
    {
     "data": {
      "text/html": [
       "<div>\n",
       "<table border=\"1\" class=\"dataframe\">\n",
       "  <thead>\n",
       "    <tr style=\"text-align: right;\">\n",
       "      <th></th>\n",
       "      <th>word</th>\n",
       "      <th>e1</th>\n",
       "      <th>p1</th>\n",
       "      <th>a1</th>\n",
       "      <th>e2</th>\n",
       "      <th>p2</th>\n",
       "      <th>a2</th>\n",
       "      <th>tmp</th>\n",
       "    </tr>\n",
       "  </thead>\n",
       "  <tbody>\n",
       "    <tr>\n",
       "      <th>1613</th>\n",
       "      <td>angry</td>\n",
       "      <td>-0.4675</td>\n",
       "      <td>-0.0375</td>\n",
       "      <td>-0.0350</td>\n",
       "      <td>-0.4925</td>\n",
       "      <td>0.1200</td>\n",
       "      <td>0.1600</td>\n",
       "      <td>10 100000000 000</td>\n",
       "    </tr>\n",
       "    <tr>\n",
       "      <th>1709</th>\n",
       "      <td>disgusted</td>\n",
       "      <td>-0.3625</td>\n",
       "      <td>-0.1825</td>\n",
       "      <td>-0.0625</td>\n",
       "      <td>-0.4750</td>\n",
       "      <td>-0.1475</td>\n",
       "      <td>-0.0150</td>\n",
       "      <td>10 100010000 000</td>\n",
       "    </tr>\n",
       "    <tr>\n",
       "      <th>1748</th>\n",
       "      <td>fearful</td>\n",
       "      <td>-0.5350</td>\n",
       "      <td>-0.4375</td>\n",
       "      <td>-0.0275</td>\n",
       "      <td>-0.5525</td>\n",
       "      <td>-0.4225</td>\n",
       "      <td>-0.0400</td>\n",
       "      <td>10 100000000 000</td>\n",
       "    </tr>\n",
       "    <tr>\n",
       "      <th>1778</th>\n",
       "      <td>happy</td>\n",
       "      <td>0.6175</td>\n",
       "      <td>0.3125</td>\n",
       "      <td>0.2425</td>\n",
       "      <td>0.7600</td>\n",
       "      <td>0.5975</td>\n",
       "      <td>0.4300</td>\n",
       "      <td>10 100010000 000</td>\n",
       "    </tr>\n",
       "    <tr>\n",
       "      <th>1961</th>\n",
       "      <td>sad</td>\n",
       "      <td>-0.4700</td>\n",
       "      <td>-0.3650</td>\n",
       "      <td>-0.3125</td>\n",
       "      <td>-0.5650</td>\n",
       "      <td>-0.4675</td>\n",
       "      <td>-0.3375</td>\n",
       "      <td>10 100000000 000</td>\n",
       "    </tr>\n",
       "    <tr>\n",
       "      <th>2026</th>\n",
       "      <td>surprised</td>\n",
       "      <td>0.2950</td>\n",
       "      <td>0.1100</td>\n",
       "      <td>0.2375</td>\n",
       "      <td>0.3475</td>\n",
       "      <td>0.1000</td>\n",
       "      <td>0.4200</td>\n",
       "      <td>10 000100000 000</td>\n",
       "    </tr>\n",
       "  </tbody>\n",
       "</table>\n",
       "</div>"
      ],
      "text/plain": [
       "           word      e1      p1      a1      e2      p2      a2  \\\n",
       "1613      angry -0.4675 -0.0375 -0.0350 -0.4925  0.1200  0.1600   \n",
       "1709  disgusted -0.3625 -0.1825 -0.0625 -0.4750 -0.1475 -0.0150   \n",
       "1748    fearful -0.5350 -0.4375 -0.0275 -0.5525 -0.4225 -0.0400   \n",
       "1778      happy  0.6175  0.3125  0.2425  0.7600  0.5975  0.4300   \n",
       "1961        sad -0.4700 -0.3650 -0.3125 -0.5650 -0.4675 -0.3375   \n",
       "2026  surprised  0.2950  0.1100  0.2375  0.3475  0.1000  0.4200   \n",
       "\n",
       "                    tmp  \n",
       "1613   10 100000000 000  \n",
       "1709   10 100010000 000  \n",
       "1748   10 100000000 000  \n",
       "1778   10 100010000 000  \n",
       "1961   10 100000000 000  \n",
       "2026   10 000100000 000  "
      ]
     },
     "execution_count": 121,
     "metadata": {},
     "output_type": "execute_result"
    }
   ],
   "source": [
    "emotions"
   ]
  },
  {
   "cell_type": "code",
   "execution_count": 139,
   "metadata": {
    "collapsed": false
   },
   "outputs": [
    {
     "name": "stdout",
     "output_type": "stream",
     "text": [
      "ANGRY = \"-0.4675*E+-0.0375*P+-0.035*A\"\n",
      "DISGUSTED = \"-0.3625*E+-0.1825*P+-0.0625*A\"\n",
      "FEARFUL = \"-0.535*E+-0.4375*P+-0.0275*A\"\n",
      "HAPPY = \"0.6175*E+0.3125*P+0.2425*A\"\n",
      "SAD = \"-0.47*E+-0.365*P+-0.3125*A\"\n",
      "SURPRISED = \"0.295*E+0.11*P+0.2375*A\"\n"
     ]
    }
   ],
   "source": [
    "for w, vec in zip(emotions.word.values, epa_emotions):\n",
    "    exp = '\"{}*E+{}*P+{}*A\"'.format(vec[0], vec[1], vec[2])\n",
    "    print w.upper(),'=', exp"
   ]
  },
  {
   "cell_type": "code",
   "execution_count": null,
   "metadata": {
    "collapsed": true
   },
   "outputs": [],
   "source": []
  },
  {
   "cell_type": "code",
   "execution_count": null,
   "metadata": {
    "collapsed": true
   },
   "outputs": [],
   "source": []
  }
 ],
 "metadata": {
  "kernelspec": {
   "display_name": "Python 2",
   "language": "python",
   "name": "python2"
  },
  "language_info": {
   "codemirror_mode": {
    "name": "ipython",
    "version": 2
   },
   "file_extension": ".py",
   "mimetype": "text/x-python",
   "name": "python",
   "nbconvert_exporter": "python",
   "pygments_lexer": "ipython2",
   "version": "2.7.9"
  }
 },
 "nbformat": 4,
 "nbformat_minor": 0
}
